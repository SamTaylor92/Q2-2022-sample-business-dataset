{
 "cells": [
  {
   "cell_type": "markdown",
   "id": "0ade64e6",
   "metadata": {},
   "source": [
    "# Sample business analysis"
   ]
  },
  {
   "cell_type": "markdown",
   "id": "784d585d",
   "metadata": {},
   "source": [
    "## Brief\n",
    "\n",
    "You're an Analyst for a new company called Marañón (similar to Amazon), and you've been asked to prepare a presentation for both Sales & Operations that summarizes sales and operations thus far. The summary should include (and the very least) an overview of the company's current state, current customer satisfaction, and proposal for 2-3 areas where the company can improve.\n",
    "\n",
    "**Here are some additional facts:**\n",
    "* Pretend it is currently Sep-18, so you can ignore all data after this date.\n",
    "* The company was founded in Jan-17, so you can ignore all data prior to this.\n",
    "* The company is based in the USA, but it was founded in Brazil.\n",
    "* You can presume that all orders have been delivered - so ignore the order state field.\n",
    "* All available data can be downloaded from this link:\n",
    "https://drive.google.com/drive/folders/16JuqYZIfYKyWCkahQtX9lWtSVji820th?usp=sharing\n",
    "\n",
    "**Your presentation should:**\n",
    "- include no more than 10 slides\n",
    "- last no longer than 20 minutes\n",
    "\n",
    "**Tip:** Create a structure for answering the questions. If you're not sure what questions to ask, make some up for yourself. It dramatically simplifies the task of digging for data.\n",
    "\n",
    "-----"
   ]
  },
  {
   "cell_type": "markdown",
   "id": "04277afb",
   "metadata": {
    "toc": true
   },
   "source": [
    "<h1>Table of Contents<span class=\"tocSkip\"></span></h1>\n",
    "<div class=\"toc\"><ul class=\"toc-item\"><li><span><a href=\"#Sample-business-analysis\" data-toc-modified-id=\"Sample-business-analysis-1\"><span class=\"toc-item-num\">1&nbsp;&nbsp;</span>Sample business analysis</a></span><ul class=\"toc-item\"><li><span><a href=\"#Brief\" data-toc-modified-id=\"Brief-1.1\"><span class=\"toc-item-num\">1.1&nbsp;&nbsp;</span>Brief</a></span></li></ul></li><li><span><a href=\"#Questions-to-answer\" data-toc-modified-id=\"Questions-to-answer-2\"><span class=\"toc-item-num\">2&nbsp;&nbsp;</span>Questions to answer</a></span><ul class=\"toc-item\"><li><ul class=\"toc-item\"><li><ul class=\"toc-item\"><li><span><a href=\"#Where-are-the-company's-customers-located?\" data-toc-modified-id=\"Where-are-the-company's-customers-located?-2.0.0.1\"><span class=\"toc-item-num\">2.0.0.1&nbsp;&nbsp;</span><a href=\"#Geographical-location-of-customers-%E2%AC%86%EF%B8%8F\" rel=\"nofollow\">Where are the company's customers located?</a></a></span></li><li><span><a href=\"#How-are-the-company's-sales?\" data-toc-modified-id=\"How-are-the-company's-sales?-2.0.0.2\"><span class=\"toc-item-num\">2.0.0.2&nbsp;&nbsp;</span><a href=\"#Revenue-over-time-(2017-2018)-%E2%AC%86%EF%B8%8F\" rel=\"nofollow\">How are the company's sales?</a></a></span></li><li><span><a href=\"#Which-products-sell-best?\" data-toc-modified-id=\"Which-products-sell-best?-2.0.0.3\"><span class=\"toc-item-num\">2.0.0.3&nbsp;&nbsp;</span><a href=\"#Top-10-categories-by-orders-&amp;-NR%-(2018)-%E2%AC%86%EF%B8%8F\" rel=\"nofollow\">Which products sell best?</a></a></span></li><li><span><a href=\"#What-is-the-relationship-between-units-sold-and-delivery-cost?\" data-toc-modified-id=\"What-is-the-relationship-between-units-sold-and-delivery-cost?-2.0.0.4\"><span class=\"toc-item-num\">2.0.0.4&nbsp;&nbsp;</span><a href=\"#Products-vs-transportation-costs-%E2%AC%86%EF%B8%8F\" rel=\"nofollow\">What is the relationship between units sold and delivery cost?</a></a></span></li><li><span><a href=\"#What-percentage-of-a-product's-expenses-is-transportation-costs?\" data-toc-modified-id=\"What-percentage-of-a-product's-expenses-is-transportation-costs?-2.0.0.5\"><span class=\"toc-item-num\">2.0.0.5&nbsp;&nbsp;</span><a href=\"#Product-price-components-%E2%AC%86%EF%B8%8F\" rel=\"nofollow\">What percentage of a product's expenses is transportation costs?</a></a></span></li><li><span><a href=\"#How-satisfied-are-customers?\" data-toc-modified-id=\"How-satisfied-are-customers?-2.0.0.6\"><span class=\"toc-item-num\">2.0.0.6&nbsp;&nbsp;</span><a href=\"#CSAT-%E2%AC%86%EF%B8%8F\" rel=\"nofollow\">How satisfied are customers?</a></a></span></li><li><span><a href=\"#Why-is-there-a-dip-in-customer-satisfaction-(CSAT)-in-Q4-2017-&amp;-Q1-2018?\" data-toc-modified-id=\"Why-is-there-a-dip-in-customer-satisfaction-(CSAT)-in-Q4-2017-&amp;-Q1-2018?-2.0.0.7\"><span class=\"toc-item-num\">2.0.0.7&nbsp;&nbsp;</span><a href=\"#Delivery-SLA-vs.-CSAT-(Quarter)-%E2%AC%86%EF%B8%8F\" rel=\"nofollow\">Why is there a dip in customer satisfaction (CSAT) in Q4 2017 &amp; Q1 2018?</a></a></span></li><li><span><a href=\"#What-other-factors-contribute-to-the-negative-CSAT?\" data-toc-modified-id=\"What-other-factors-contribute-to-the-negative-CSAT?-2.0.0.8\"><span class=\"toc-item-num\">2.0.0.8&nbsp;&nbsp;</span><a href=\"#Order-purchase-date-by-CSAT-%E2%AC%86%EF%B8%8F\" rel=\"nofollow\">What other factors contribute to the negative CSAT?</a></a></span></li></ul></li></ul></li></ul></li><li><span><a href=\"#Results-⬆️\" data-toc-modified-id=\"Results-⬆️-3\"><span class=\"toc-item-num\">3&nbsp;&nbsp;</span>Results <a href=\"#Questions-to-answer\" rel=\"nofollow\">⬆️</a></a></span><ul class=\"toc-item\"><li><span><a href=\"#Summary-⬆️\" data-toc-modified-id=\"Summary-⬆️-3.1\"><span class=\"toc-item-num\">3.1&nbsp;&nbsp;</span>Summary <a href=\"#Questions-to-answer\" rel=\"nofollow\">⬆️</a></a></span></li><li><span><a href=\"#Recommendations-⬆️\" data-toc-modified-id=\"Recommendations-⬆️-3.2\"><span class=\"toc-item-num\">3.2&nbsp;&nbsp;</span>Recommendations <a href=\"#Questions-to-answer\" rel=\"nofollow\">⬆️</a></a></span></li><li><span><a href=\"#Further-investigation-topics-⬆️\" data-toc-modified-id=\"Further-investigation-topics-⬆️-3.3\"><span class=\"toc-item-num\">3.3&nbsp;&nbsp;</span>Further investigation topics <a href=\"#Questions-to-answer\" rel=\"nofollow\">⬆️</a></a></span></li></ul></li><li><span><a href=\"#First-look-through-⬆️\" data-toc-modified-id=\"First-look-through-⬆️-4\"><span class=\"toc-item-num\">4&nbsp;&nbsp;</span>First look through <a href=\"#Questions-to-answer\" rel=\"nofollow\">⬆️</a></a></span><ul class=\"toc-item\"><li><span><a href=\"#Findings-⬆️\" data-toc-modified-id=\"Findings-⬆️-4.1\"><span class=\"toc-item-num\">4.1&nbsp;&nbsp;</span>Findings <a href=\"#Questions-to-answer\" rel=\"nofollow\">⬆️</a></a></span></li></ul></li><li><span><a href=\"#Merge-the-datasets-⬆️\" data-toc-modified-id=\"Merge-the-datasets-⬆️-5\"><span class=\"toc-item-num\">5&nbsp;&nbsp;</span>Merge the datasets <a href=\"#Questions-to-answer\" rel=\"nofollow\">⬆️</a></a></span><ul class=\"toc-item\"><li><span><a href=\"#To-do-⬆️\" data-toc-modified-id=\"To-do-⬆️-5.1\"><span class=\"toc-item-num\">5.1&nbsp;&nbsp;</span>To do <a href=\"#Questions-to-answer\" rel=\"nofollow\">⬆️</a></a></span></li></ul></li><li><span><a href=\"#Clean-the-data-⬆️\" data-toc-modified-id=\"Clean-the-data-⬆️-6\"><span class=\"toc-item-num\">6&nbsp;&nbsp;</span>Clean the data <a href=\"#Questions-to-answer\" rel=\"nofollow\">⬆️</a></a></span><ul class=\"toc-item\"><li><span><a href=\"#Summary-statistics-⬆️\" data-toc-modified-id=\"Summary-statistics-⬆️-6.1\"><span class=\"toc-item-num\">6.1&nbsp;&nbsp;</span>Summary statistics <a href=\"#Questions-to-answer\" rel=\"nofollow\">⬆️</a></a></span></li><li><span><a href=\"#To-do-⬆️\" data-toc-modified-id=\"To-do-⬆️-6.2\"><span class=\"toc-item-num\">6.2&nbsp;&nbsp;</span>To do <a href=\"#Questions-to-answer\" rel=\"nofollow\">⬆️</a></a></span><ul class=\"toc-item\"><li><span><a href=\"#Drop-⬆️\" data-toc-modified-id=\"Drop-⬆️-6.2.1\"><span class=\"toc-item-num\">6.2.1&nbsp;&nbsp;</span>Drop <a href=\"#Questions-to-answer\" rel=\"nofollow\">⬆️</a></a></span></li><li><span><a href=\"#Change-⬆️\" data-toc-modified-id=\"Change-⬆️-6.2.2\"><span class=\"toc-item-num\">6.2.2&nbsp;&nbsp;</span>Change <a href=\"#Questions-to-answer\" rel=\"nofollow\">⬆️</a></a></span></li><li><span><a href=\"#Add-⬆️\" data-toc-modified-id=\"Add-⬆️-6.2.3\"><span class=\"toc-item-num\">6.2.3&nbsp;&nbsp;</span>Add <a href=\"#Questions-to-answer\" rel=\"nofollow\">⬆️</a></a></span></li><li><span><a href=\"#Correct-⬆️\" data-toc-modified-id=\"Correct-⬆️-6.2.4\"><span class=\"toc-item-num\">6.2.4&nbsp;&nbsp;</span>Correct <a href=\"#Questions-to-answer\" rel=\"nofollow\">⬆️</a></a></span></li></ul></li></ul></li><li><span><a href=\"#Exploratory-data-analysis-⬆️\" data-toc-modified-id=\"Exploratory-data-analysis-⬆️-7\"><span class=\"toc-item-num\">7&nbsp;&nbsp;</span>Exploratory data analysis <a href=\"#Questions-to-answer\" rel=\"nofollow\">⬆️</a></a></span></li><li><span><a href=\"#Visualisation-⬆️\" data-toc-modified-id=\"Visualisation-⬆️-8\"><span class=\"toc-item-num\">8&nbsp;&nbsp;</span>Visualisation <a href=\"#Questions-to-answer\" rel=\"nofollow\">⬆️</a></a></span><ul class=\"toc-item\"><li><span><a href=\"#Geographical-location-of-customers-⬆️\" data-toc-modified-id=\"Geographical-location-of-customers-⬆️-8.1\"><span class=\"toc-item-num\">8.1&nbsp;&nbsp;</span>Geographical location of customers <a href=\"#Questions-to-answer\" rel=\"nofollow\">⬆️</a></a></span></li><li><span><a href=\"#Revenue-over-time-(2017-2018)-⬆️\" data-toc-modified-id=\"Revenue-over-time-(2017-2018)-⬆️-8.2\"><span class=\"toc-item-num\">8.2&nbsp;&nbsp;</span>Revenue over time (2017-2018) <a href=\"#Questions-to-answer\" rel=\"nofollow\">⬆️</a></a></span></li><li><span><a href=\"#Top-10-categories-by-orders-&amp;-NR%-(2018)-⬆️\" data-toc-modified-id=\"Top-10-categories-by-orders-&amp;-NR%-(2018)-⬆️-8.3\"><span class=\"toc-item-num\">8.3&nbsp;&nbsp;</span>Top 10 categories by orders &amp; NR% (2018) <a href=\"#Questions-to-answer\" rel=\"nofollow\">⬆️</a></a></span></li><li><span><a href=\"#Products-vs-transportation-costs-⬆️\" data-toc-modified-id=\"Products-vs-transportation-costs-⬆️-8.4\"><span class=\"toc-item-num\">8.4&nbsp;&nbsp;</span>Products vs transportation costs <a href=\"#Questions-to-answer\" rel=\"nofollow\">⬆️</a></a></span></li><li><span><a href=\"#Product-price-components-⬆️\" data-toc-modified-id=\"Product-price-components-⬆️-8.5\"><span class=\"toc-item-num\">8.5&nbsp;&nbsp;</span>Product price components <a href=\"#Questions-to-answer\" rel=\"nofollow\">⬆️</a></a></span></li><li><span><a href=\"#CSAT-⬆️\" data-toc-modified-id=\"CSAT-⬆️-8.6\"><span class=\"toc-item-num\">8.6&nbsp;&nbsp;</span>CSAT <a href=\"#Questions-to-answer\" rel=\"nofollow\">⬆️</a></a></span><ul class=\"toc-item\"><li><span><a href=\"#CSAT-by-quarter-⬆️\" data-toc-modified-id=\"CSAT-by-quarter-⬆️-8.6.1\"><span class=\"toc-item-num\">8.6.1&nbsp;&nbsp;</span>CSAT by quarter <a href=\"#Questions-to-answer\" rel=\"nofollow\">⬆️</a></a></span></li><li><span><a href=\"#CSAT-and-DSAT-⬆️\" data-toc-modified-id=\"CSAT-and-DSAT-⬆️-8.6.2\"><span class=\"toc-item-num\">8.6.2&nbsp;&nbsp;</span>CSAT and DSAT <a href=\"#Questions-to-answer\" rel=\"nofollow\">⬆️</a></a></span></li></ul></li><li><span><a href=\"#Delivery-service-level-agreement-(Delivery-SLA)-⬆️\" data-toc-modified-id=\"Delivery-service-level-agreement-(Delivery-SLA)-⬆️-8.7\"><span class=\"toc-item-num\">8.7&nbsp;&nbsp;</span>Delivery service level agreement (Delivery SLA) <a href=\"#Questions-to-answer\" rel=\"nofollow\">⬆️</a></a></span><ul class=\"toc-item\"><li><span><a href=\"#Delivery-SLA-by-quarter-⬆️\" data-toc-modified-id=\"Delivery-SLA-by-quarter-⬆️-8.7.1\"><span class=\"toc-item-num\">8.7.1&nbsp;&nbsp;</span>Delivery SLA by quarter <a href=\"#Questions-to-answer\" rel=\"nofollow\">⬆️</a></a></span></li><li><span><a href=\"#Delivery-SLA-vs.-CSAT-(Quarter)-⬆️\" data-toc-modified-id=\"Delivery-SLA-vs.-CSAT-(Quarter)-⬆️-8.7.2\"><span class=\"toc-item-num\">8.7.2&nbsp;&nbsp;</span>Delivery SLA vs. CSAT (Quarter) <a href=\"#Questions-to-answer\" rel=\"nofollow\">⬆️</a></a></span><ul class=\"toc-item\"><li><span><a href=\"#An-interesting-finding:-⬆️\" data-toc-modified-id=\"An-interesting-finding:-⬆️-8.7.2.1\"><span class=\"toc-item-num\">8.7.2.1&nbsp;&nbsp;</span>An interesting finding: <a href=\"#Questions-to-answer\" rel=\"nofollow\">⬆️</a></a></span></li></ul></li><li><span><a href=\"#Order-purchase-date-by-CSAT-⬆️\" data-toc-modified-id=\"Order-purchase-date-by-CSAT-⬆️-8.7.3\"><span class=\"toc-item-num\">8.7.3&nbsp;&nbsp;</span>Order purchase date by CSAT <a href=\"#Questions-to-answer\" rel=\"nofollow\">⬆️</a></a></span></li><li><span><a href=\"#Amount-of-days-from-purchase-date-to-delivery-date-vs.-CSAT-⬆️\" data-toc-modified-id=\"Amount-of-days-from-purchase-date-to-delivery-date-vs.-CSAT-⬆️-8.7.4\"><span class=\"toc-item-num\">8.7.4&nbsp;&nbsp;</span>Amount of days from purchase date to delivery date vs. CSAT <a href=\"#Questions-to-answer\" rel=\"nofollow\">⬆️</a></a></span></li><li><span><a href=\"#Estimated-delivery-date-minus-actual-delivery-date-vs.-CSAT-⬆️\" data-toc-modified-id=\"Estimated-delivery-date-minus-actual-delivery-date-vs.-CSAT-⬆️-8.7.5\"><span class=\"toc-item-num\">8.7.5&nbsp;&nbsp;</span>Estimated delivery date minus actual delivery date vs. CSAT <a href=\"#Questions-to-answer\" rel=\"nofollow\">⬆️</a></a></span></li></ul></li><li><span><a href=\"#Weight-⬆️\" data-toc-modified-id=\"Weight-⬆️-8.8\"><span class=\"toc-item-num\">8.8&nbsp;&nbsp;</span>Weight <a href=\"#Questions-to-answer\" rel=\"nofollow\">⬆️</a></a></span></li></ul></li><li><span><a href=\"#[Incomplete]-Forecasting-⬆️\" data-toc-modified-id=\"[Incomplete]-Forecasting-⬆️-9\"><span class=\"toc-item-num\">9&nbsp;&nbsp;</span>[Incomplete] Forecasting <a href=\"#Questions-to-answer\" rel=\"nofollow\">⬆️</a></a></span><ul class=\"toc-item\"><li><span><a href=\"#[Incomplete]-Multiple-linear-regression-using-sklearn-⬆️\" data-toc-modified-id=\"[Incomplete]-Multiple-linear-regression-using-sklearn-⬆️-9.1\"><span class=\"toc-item-num\">9.1&nbsp;&nbsp;</span>[Incomplete] Multiple linear regression using <code>sklearn</code> <a href=\"#Questions-to-answer\" rel=\"nofollow\">⬆️</a></a></span><ul class=\"toc-item\"><li><span><a href=\"#Predicting-review_score-from-weight-and-delivery-time-⬆️\" data-toc-modified-id=\"Predicting-review_score-from-weight-and-delivery-time-⬆️-9.1.1\"><span class=\"toc-item-num\">9.1.1&nbsp;&nbsp;</span>Predicting review_score from <code>weight</code> and <code>delivery time</code> <a href=\"#Questions-to-answer\" rel=\"nofollow\">⬆️</a></a></span></li></ul></li></ul></li></ul></div>"
   ]
  },
  {
   "cell_type": "markdown",
   "id": "a83002da",
   "metadata": {},
   "source": [
    "# Questions to answer\n",
    "\n",
    "To make the analysis more focused, I will start by exploring the following questions\n",
    "\n",
    "- #### [Where are the company's customers located?](#Geographical-location-of-customers-%E2%AC%86%EF%B8%8F)\n",
    "- #### [How are the company's sales?](#Revenue-over-time-(2017-2018)-%E2%AC%86%EF%B8%8F)\n",
    "- #### [Which products sell best?](#Top-10-categories-by-orders-&-NR%-(2018)-%E2%AC%86%EF%B8%8F)\n",
    "- #### [What is the relationship between units sold and delivery cost?](#Products-vs-transportation-costs-%E2%AC%86%EF%B8%8F)\n",
    "- #### [What percentage of a product's expenses is transportation costs?](#Product-price-components-%E2%AC%86%EF%B8%8F)\n",
    "- #### [How satisfied are customers?](#CSAT-%E2%AC%86%EF%B8%8F)\n",
    "- #### [Why is there a dip in customer satisfaction (CSAT) in Q4 2017 & Q1 2018?](#Delivery-SLA-vs.-CSAT-(Quarter)-%E2%AC%86%EF%B8%8F)\n",
    "- #### [What other factors contribute to the negative CSAT?](#Order-purchase-date-by-CSAT-%E2%AC%86%EF%B8%8F)\n",
    "\n",
    "----"
   ]
  },
  {
   "cell_type": "markdown",
   "id": "8efcbd54",
   "metadata": {},
   "source": [
    "# Results [⬆️](#Questions-to-answer)"
   ]
  },
  {
   "cell_type": "markdown",
   "id": "e5042330",
   "metadata": {},
   "source": [
    "## Summary [⬆️](#Questions-to-answer)\n",
    "- __Company was facing increased demands of sales from 2017, quarter on quarter__\n",
    "    - (**Source:** Product sales data)<br><br>\n",
    "\n",
    "- __The increased demands led to decrease of SLA for on-time deliveries (KPI)__\n",
    "    - (**Source:** Delivery times)<br><br>\n",
    "\n",
    "- __The company outsourced deliveries to cope with demands, reducing overall customer satisfaction (KPI)__\n",
    "    - (**Source:** Delivery times | CSAT data | Customer review comments)<br><br>\n",
    "\n",
    "- __With more logistical overheads, the company worked to improve delivery SLAs (KPI), which raised CSAT (KPI)__\n",
    "    - (**Source:** Product sales data vs. delivery costs | Delivery % of total sales)<br><br>\n",
    "\n",
    "- __Company HQ (USA) ≠ customer base (Brazil) - resulting in higher than industry average delivery costs__\n",
    "    - (**Source:** Customer map & Product price components)<br><br>\n",
    "\n",
    "- __Product range very diverse: issues with delivery and quality of product__\n",
    "    - (**Source:** CSAT data | Customer review comments)\n",
    "\n",
    "---\n",
    "\n",
    "## Recommendations [⬆️](#Questions-to-answer)\n",
    "- __Set & maintain SLA for on-time deliveries (suggestion: ~95%)__\n",
    "   - QTD: (Q3 2018): 92.52%\n",
    "   - Increase FTEs needed to hit the target\n",
    "   - Example initiative to improve:\n",
    "   - A/B test to measure if extending the ‘expected delivery’ by X days increases CSAT and delivery SLA.<br><br>\n",
    "\n",
    "- __Set target for CSAT (suggestion: ~85%)__\n",
    "   - QTD (Q3 2018): 81.51\n",
    "   - Quality control on ~5% of orders leaving warehouse\n",
    "       - To reduce ~32% product DSAT driver\n",
    "   - Work with QAs to categorise negative review comments & work to reduce the main drivers\n",
    "       - Product issues\n",
    "       - Logistical issues\n",
    "       - Etc.<br><br>\n",
    "\n",
    "- __Open a warehouse in Brazil (São Paulo)__\n",
    "   - 100% of customer base in Brazil\n",
    "   - 42% of customer base in São Paulo\n",
    "       - Aim: to reduce delivery costs (% of overall order price)<br><br>\n",
    "\n",
    "- __Cut products that are not selling & focus on product quality\n",
    "   - Investigate the relationship between categories of product, delivery costs, return on investment. \n",
    "\n",
    "---\n",
    "\n",
    "## Further investigation topics [⬆️](#Questions-to-answer)\n",
    "- Which products are most cost effective? How can we leverage this?\n",
    "- What are other drivers of negative CSAT? \n",
    "    - Need to conduct a more robust product quality assurance analysis.\n",
    "    \n",
    "----\n"
   ]
  },
  {
   "cell_type": "code",
   "execution_count": null,
   "id": "12facdcf",
   "metadata": {},
   "outputs": [],
   "source": [
    "# Import libraries\n",
    "import numpy as np\n",
    "import pandas as pd\n",
    "from pandas import DataFrame\n",
    "import matplotlib.pylab as plt\n",
    "import matplotlib.ticker as mticker\n",
    "import seaborn as sns\n",
    "import datetime\n",
    "import plotly.express as px\n",
    "from time import time\n",
    "from math import sqrt\n",
    "import statsmodels.api as sm\n",
    "from statsmodels.tsa.seasonal import seasonal_decompose\n",
    "from statsmodels.graphics.tsaplots import plot_acf, plot_pacf\n",
    "from statsmodels.tsa.stattools import acf,pacf\n",
    "from statsmodels.tsa.arima_model import  ARIMA\n",
    "from statsmodels.tsa.stattools import adfuller\n",
    "from sklearn import linear_model\n",
    "from sklearn import model_selection\n",
    "from sklearn.metrics import mean_squared_error, r2_score\n",
    "import itertools\n",
    "import os\n",
    "import warnings\n",
    "warnings.filterwarnings('ignore')\n",
    "\n",
    "get_ipython().run_line_magic('matplotlib', 'inline')\n",
    "\n",
    "# Ajust the settings to allow us to check all columns of our dataset \n",
    "pd.set_option('display.max_columns', None)\n",
    "\n",
    "# Set precision of float values to 2 decimal points to make data easier to read\n",
    "pd.options.display.float_format = '{:,.2f}'.format\n",
    "\n",
    "# Adjust the settings to expand the cell width\n",
    "from IPython.display import display, HTML\n",
    "display(HTML(\"<style>.container { width:80% !important; }</style>\"))"
   ]
  },
  {
   "cell_type": "markdown",
   "id": "cb6644a3",
   "metadata": {},
   "source": [
    "# First look through [⬆️](#Questions-to-answer)\n",
    "\n",
    "At this stage, I am looking for ways to merge the datasets, to make the analysis more manageable:\n",
    "- What data does each table contain?\n",
    "- Do I need to update the table name variables, so that they are more accurate?\n",
    "- How are the tables linked (if at all)?\n",
    "\n",
    "I will start by viewing each table"
   ]
  },
  {
   "cell_type": "code",
   "execution_count": null,
   "id": "bc9fb130",
   "metadata": {},
   "outputs": [],
   "source": [
    "# Import the datasets\n",
    "customers = pd.read_csv(\"/Users/samtaylor/Desktop/sample_business_datasets/sample_data/customers_dataset.txt\")\n",
    "order_items = pd.read_csv(\"/Users/samtaylor/Desktop/sample_business_datasets/sample_data/order_items_dataset.txt\")\n",
    "order_payments = pd.read_csv(\"/Users/samtaylor/Desktop/sample_business_datasets/sample_data/order_payments_dataset.txt\")\n",
    "order_reviews = pd.read_csv(\"/Users/samtaylor/Desktop/sample_business_datasets/sample_data/order_reviews_dataset.txt\")\n",
    "orders = pd.read_csv(\"/Users/samtaylor/Desktop/sample_business_datasets/sample_data/orders_dataset.txt\")\n",
    "products = pd.read_csv(\"/Users/samtaylor/Desktop/sample_business_datasets/sample_data/products_dataset.txt\")\n",
    "product_categories = pd.read_excel(\"/Users/samtaylor/Desktop/sample_business_datasets/sample_data/product_category_name_translation.xlsx\")"
   ]
  },
  {
   "cell_type": "code",
   "execution_count": null,
   "id": "5e4e5205",
   "metadata": {},
   "outputs": [],
   "source": [
    "customers.head()"
   ]
  },
  {
   "cell_type": "code",
   "execution_count": null,
   "id": "52953834",
   "metadata": {},
   "outputs": [],
   "source": [
    "orders.head()"
   ]
  },
  {
   "cell_type": "code",
   "execution_count": null,
   "id": "5c1386d5",
   "metadata": {},
   "outputs": [],
   "source": [
    "order_items.head()"
   ]
  },
  {
   "cell_type": "code",
   "execution_count": null,
   "id": "596890bf",
   "metadata": {},
   "outputs": [],
   "source": [
    "order_payments.head()"
   ]
  },
  {
   "cell_type": "code",
   "execution_count": null,
   "id": "400d6d7b",
   "metadata": {},
   "outputs": [],
   "source": [
    "order_reviews.head()"
   ]
  },
  {
   "cell_type": "code",
   "execution_count": null,
   "id": "7676db68",
   "metadata": {},
   "outputs": [],
   "source": [
    "products.head()"
   ]
  },
  {
   "cell_type": "code",
   "execution_count": null,
   "id": "b8b2fdc6",
   "metadata": {},
   "outputs": [],
   "source": [
    "product_categories.head()"
   ]
  },
  {
   "cell_type": "markdown",
   "id": "8050e220",
   "metadata": {},
   "source": [
    "---\n",
    "## Findings [⬆️](#Questions-to-answer)\n",
    "\n",
    "- **Customer table:**\n",
    "    - Links to 'Orders' table via **customer_id** \n",
    "\n",
    "- **Order tables:**\n",
    "    - All 4 order tables can be linked via the **order_id**\n",
    "\n",
    "- **Product tables:**\n",
    "    - Can be linked to each other & the 'order_items' table via the **product_id**\n",
    "\n",
    "- We can link the product_categories to the products table via the product_category_name field"
   ]
  },
  {
   "cell_type": "markdown",
   "id": "d28eacd5",
   "metadata": {},
   "source": [
    "---\n",
    "# Merge the datasets [⬆️](#Questions-to-answer)"
   ]
  },
  {
   "cell_type": "markdown",
   "id": "c3f81cf4",
   "metadata": {},
   "source": [
    "## To do [⬆️](#Questions-to-answer)\n",
    "\n",
    "- Link customer table to orders table via customer id **(merged_table1)**\n",
    "- Link merged_table1 to remaining 3 order tables to get **(merged_table4)**\n",
    "- Link the product table to merged_table4 **(merged_table5)**\n",
    "- Add the product_category translations **(dataset)**"
   ]
  },
  {
   "cell_type": "code",
   "execution_count": null,
   "id": "53e7928e",
   "metadata": {},
   "outputs": [],
   "source": [
    "# Link customer table to orders table via customer id **(merged_table1)**\n",
    "\n",
    "merged_table1 = pd.merge(orders,customers, on=\"customer_id\")\n",
    "merged_table1.head()"
   ]
  },
  {
   "cell_type": "code",
   "execution_count": null,
   "id": "f86954f0",
   "metadata": {},
   "outputs": [],
   "source": [
    "# Link merged_table1 to remaining 3 order tables to get **(merged_table4)**\n",
    "\n",
    "## Order_items added to merged_table1\n",
    "merged_table2 = pd.merge(merged_table1,order_items, on=\"order_id\")\n",
    "\n",
    "## Order_reviews added to merged_table2\n",
    "merged_table3 = pd.merge(merged_table2,order_reviews,on='order_id')\n",
    "\n",
    "## Order_payments added to merged_table3\n",
    "merged_table4 = pd.merge(merged_table3,order_payments,on='order_id')\n",
    "\n",
    "merged_table4.head()"
   ]
  },
  {
   "cell_type": "code",
   "execution_count": null,
   "id": "7d62bd3b",
   "metadata": {},
   "outputs": [],
   "source": [
    "# Link the product table to merged_table4 **(merged_table5)**\n",
    "\n",
    "merged_table5 = pd.merge(merged_table4,products,on='product_id')\n",
    "merged_table5.head()"
   ]
  },
  {
   "cell_type": "code",
   "execution_count": null,
   "id": "d45d7c10",
   "metadata": {},
   "outputs": [],
   "source": [
    "# Add the product_category translations **(dataset)**\n",
    "\n",
    "dataset = pd.merge(merged_table5,product_categories,on='product_category_name')\n",
    "dataset.head()"
   ]
  },
  {
   "cell_type": "markdown",
   "id": "f8d2d4f2",
   "metadata": {},
   "source": [
    "---\n",
    "# Clean the data [⬆️](#Questions-to-answer)\n",
    "## Summary statistics [⬆️](#Questions-to-answer)"
   ]
  },
  {
   "cell_type": "code",
   "execution_count": null,
   "id": "7dcd642f",
   "metadata": {
    "scrolled": true
   },
   "outputs": [],
   "source": [
    "# Check the dataset summary stats\n",
    "\n",
    "dataset.describe()"
   ]
  },
  {
   "cell_type": "code",
   "execution_count": null,
   "id": "07c95b73",
   "metadata": {},
   "outputs": [],
   "source": [
    "# Check to see if any data types need changing\n",
    "\n",
    "dataset.info()"
   ]
  },
  {
   "cell_type": "code",
   "execution_count": null,
   "id": "687d0130",
   "metadata": {
    "scrolled": true
   },
   "outputs": [],
   "source": [
    "# Check dataset for 'na' values\n",
    "\n",
    "dataset.isna().sum()"
   ]
  },
  {
   "cell_type": "code",
   "execution_count": null,
   "id": "0a7f3524",
   "metadata": {},
   "outputs": [],
   "source": [
    "# Inspect first and last 5 rows (visual overview)\n",
    "\n",
    "dataset"
   ]
  },
  {
   "cell_type": "markdown",
   "id": "2170c55f",
   "metadata": {},
   "source": [
    "---\n",
    "## To do [⬆️](#Questions-to-answer)\n",
    "\n",
    "### Drop [⬆️](#Questions-to-answer)\n",
    "- Drop the column [order_status], as per the instructions\n",
    "- Delete duplicates\n",
    "- Remove any data before 2017 and any data after September 2018, as per instructions\n",
    "\n",
    "### Change [⬆️](#Questions-to-answer)\n",
    "- Round (float) values to 2 decimal places\n",
    "    - [price]\n",
    "    - [freight_value]\n",
    "    - [payment_value]\n",
    "- Convert date columns from (object format) to (datetime format)\n",
    "- Change type from (float) to (int)\n",
    "    - [product_name_lenght]\n",
    "    - [product_description_lenght]\n",
    "    - [product_photos_qty]\n",
    "    - [product_weight_g]\n",
    "    - [product_length_cm]\n",
    "    - [product_height_cm] \n",
    "    - [product_width_cm]\n",
    "    \n",
    "### Add [⬆️](#Questions-to-answer)\n",
    "- Create a new column [quarter] from the [order_purchase_timestamp]\n",
    "- Create a new column [month] from the [order_purchase_timestamp]\n",
    "- Create a new column [percent of NR]: [payment_value] / [payment_value].sum() *100\n",
    "- Create a new column [CSAT]: [review_score > 3, True(100), False(0)]\n",
    "- Create a new column [days_until_delivered]: [order_delivered_customer_date] - [order_purchase_timestamp]\n",
    "- Create a new column [actual_delivery_date_minus_estimated_delivery_date]: [order_delivered_customer_date] - [order_estimated_delivery_date]\n",
    "    - Extract number of days from [days_until_delivered] & [actual_delivery_date_minus_estimated_delivery_date]\n",
    "    \n",
    "### Correct [⬆️](#Questions-to-answer)\n",
    "- Correct column names\n",
    "    - [product_name_lenght] to [product_name_length]\n",
    "    - [product_description_lenght] to [product_description_length]"
   ]
  },
  {
   "cell_type": "code",
   "execution_count": null,
   "id": "facec3c7",
   "metadata": {},
   "outputs": [],
   "source": [
    "# Drop the order_status column, as per the instructions\n",
    "\n",
    "dataset = dataset.drop(columns='order_status')"
   ]
  },
  {
   "cell_type": "code",
   "execution_count": null,
   "id": "dc5617f8",
   "metadata": {},
   "outputs": [],
   "source": [
    "# Delete duplicates\n",
    "\n",
    "dataset = dataset.drop_duplicates(subset=['order_id'], keep='first')"
   ]
  },
  {
   "cell_type": "code",
   "execution_count": null,
   "id": "b3a42b87",
   "metadata": {},
   "outputs": [],
   "source": [
    "# Remove unwanted dates from the dataset, as per the instructions\n",
    "## \"Pretend it is currently Sep-18, so you can ignore all data after this date.\"\n",
    "## \"The company was founded in Jan-17, so you can ignore all data prior to this.\"\n",
    "\n",
    "dataset['order_purchase_timestamp'] = pd.to_datetime(dataset['order_purchase_timestamp'])\n",
    "dataset = dataset[~(dataset['order_purchase_timestamp'] < '2017-01-01')]\n",
    "dataset = dataset[~(dataset['order_purchase_timestamp'] > '2018-09-01')]"
   ]
  },
  {
   "cell_type": "code",
   "execution_count": null,
   "id": "091c6a47",
   "metadata": {},
   "outputs": [],
   "source": [
    "# Round float values to 2 decimal places\n",
    "## price\n",
    "## freight_value\n",
    "## payment_value\n",
    "\n",
    "dataset.style.format({\n",
    "    'price': '{:,.2f}'.format,\n",
    "    'freight_value': '{:,.2f}'.format,\n",
    "    'payment_value': '{:,.2f}'.format\n",
    "})"
   ]
  },
  {
   "cell_type": "code",
   "execution_count": null,
   "id": "892b47aa",
   "metadata": {},
   "outputs": [],
   "source": [
    "# convert date columns from object format to date time format\n",
    "\n",
    "dataset.order_purchase_timestamp = pd.to_datetime(dataset.order_purchase_timestamp)\n",
    "dataset.order_approved_at = pd.to_datetime(dataset.order_approved_at)\n",
    "dataset.order_delivered_carrier_date = pd.to_datetime(dataset.order_delivered_carrier_date)\n",
    "dataset.order_delivered_customer_date = pd.to_datetime(dataset.order_delivered_customer_date)\n",
    "dataset.order_estimated_delivery_date = pd.to_datetime(dataset.order_estimated_delivery_date)\n",
    "dataset.review_creation_date = pd.to_datetime(dataset.review_creation_date)\n",
    "dataset.review_answer_timestamp = pd.to_datetime(dataset.review_answer_timestamp)"
   ]
  },
  {
   "cell_type": "code",
   "execution_count": null,
   "id": "78cfda85",
   "metadata": {
    "scrolled": true
   },
   "outputs": [],
   "source": [
    "# Drop NAs from columns we want to change datatype of\n",
    "\n",
    "dataset = dataset.dropna(subset = ['product_weight_g'])\n",
    "dataset = dataset.dropna(subset = ['product_length_cm'])\n",
    "dataset = dataset.dropna(subset = ['product_height_cm'])\n",
    "dataset = dataset.dropna(subset = ['product_width_cm'])"
   ]
  },
  {
   "cell_type": "code",
   "execution_count": null,
   "id": "914fa9f7",
   "metadata": {},
   "outputs": [],
   "source": [
    "# Change datatype of the columns we want to change\n",
    "\n",
    "dataset = dataset.astype({\n",
    "    \"product_name_lenght\": int, \n",
    "    \"product_description_lenght\": int, \n",
    "    \"product_photos_qty\": int, \n",
    "    \"product_weight_g\": int, \n",
    "    \"product_length_cm\": int, \n",
    "    \"product_height_cm\": int, \n",
    "    \"product_width_cm\": int\n",
    "})"
   ]
  },
  {
   "cell_type": "code",
   "execution_count": null,
   "id": "27206650",
   "metadata": {},
   "outputs": [],
   "source": [
    "# Extract year & quarter from order_purchase_timestamp & add as new column (quarter)\n",
    "\n",
    "dataset['quarter'] = pd.PeriodIndex(dataset.order_purchase_timestamp, freq='Q')"
   ]
  },
  {
   "cell_type": "code",
   "execution_count": null,
   "id": "cbaa1aa4",
   "metadata": {},
   "outputs": [],
   "source": [
    "# Extract month from order_purchase_timestamp\n",
    "\n",
    "dataset['month'] = pd.PeriodIndex(dataset.order_purchase_timestamp, freq='M')"
   ]
  },
  {
   "cell_type": "code",
   "execution_count": null,
   "id": "d0698ea9",
   "metadata": {},
   "outputs": [],
   "source": [
    "# Create column days_until_delivered (delivered customer date - purchase timestamp)\n",
    "\n",
    "dataset['days_from_purchase_to_delivery'] = dataset.order_delivered_customer_date - dataset.order_purchase_timestamp"
   ]
  },
  {
   "cell_type": "code",
   "execution_count": null,
   "id": "2dd91c5b",
   "metadata": {},
   "outputs": [],
   "source": [
    "# Create column difference between expected delivery and actual delivery (delivered customer date - estimated delivery date)\n",
    "\n",
    "dataset['actual_delivery_date_minus_estimated_delivery_date'] = dataset.order_delivered_customer_date - dataset.order_estimated_delivery_date"
   ]
  },
  {
   "cell_type": "code",
   "execution_count": null,
   "id": "dcf8ae3b",
   "metadata": {},
   "outputs": [],
   "source": [
    "## add delivered_earlier (order_delivered_customer_date < order_estimated_delivery_date)\n",
    "\n",
    "dataset['delivered_earlier'] = np.where(dataset['order_delivered_customer_date']<dataset['order_estimated_delivery_date'],100,0)"
   ]
  },
  {
   "cell_type": "code",
   "execution_count": null,
   "id": "e09ce968",
   "metadata": {},
   "outputs": [],
   "source": [
    "# Create a new field called 'percent of NR'\n",
    "\n",
    "dataset['percent_of_NR'] = dataset['payment_value']/dataset.payment_value.sum()*100"
   ]
  },
  {
   "cell_type": "code",
   "execution_count": null,
   "id": "ece6665c",
   "metadata": {},
   "outputs": [],
   "source": [
    "## add customer satisfaction score (CSAT) (if review_score calculation > 3 then 100 else 0)\n",
    "\n",
    "dataset['CSAT'] = np.where(dataset['review_score']>3,100,0)"
   ]
  },
  {
   "cell_type": "code",
   "execution_count": null,
   "id": "92c0dc92",
   "metadata": {},
   "outputs": [],
   "source": [
    "# Extract just the number of days from days_from_purchase_to_delivery and actual_delivery_date_minus_estimated_delivery_date (and disregard hours,minutes, etc.)\n",
    "\n",
    "dataset.days_from_purchase_to_delivery = dataset.days_from_purchase_to_delivery.dt.days\n",
    "dataset.actual_delivery_date_minus_estimated_delivery_date = dataset.actual_delivery_date_minus_estimated_delivery_date.dt.days"
   ]
  },
  {
   "cell_type": "code",
   "execution_count": null,
   "id": "d35d9d30",
   "metadata": {},
   "outputs": [],
   "source": [
    "# Create a new column with buckets for weight categories\n",
    "\n",
    "dataset['weight_bucket'] = np.where(dataset['product_weight_g']<= 50,'0-50g',\n",
    "                        np.where(dataset['product_weight_g']<= 100,'51-100g',\n",
    "                        np.where(dataset['product_weight_g']<= 500,'101-500g',\n",
    "                        np.where(dataset['product_weight_g']<= 1000,'501-1000g',\n",
    "                        np.where(dataset['product_weight_g']<= 2000,'1001-2000g',\n",
    "                        np.where(dataset['product_weight_g']<= 3000,'2001-3000g',\n",
    "                        np.where(dataset['product_weight_g']<= 4000,'3001-4000g',\n",
    "                        np.where(dataset['product_weight_g']<= 5000,'4001-5000g',\n",
    "                        np.where(dataset['product_weight_g']<= 10000,'5001-10000g',\n",
    "                        np.where(dataset['product_weight_g']<= 20000,'10001-20000g',\n",
    "                        np.where(dataset['product_weight_g']<= 30000,'20001-30000g',\n",
    "                        np.where(dataset['product_weight_g']<= 40000,'30001-40000g',\n",
    "                        np.where(dataset['product_weight_g']<= 50000,'40001-50000g', '50000g+'\n",
    "                        )))))))))))))                           "
   ]
  },
  {
   "cell_type": "code",
   "execution_count": null,
   "id": "dd6f8cf8",
   "metadata": {
    "scrolled": true
   },
   "outputs": [],
   "source": [
    "# Transform weight_bucket to category\n",
    "dataset['weight_bucket'] = dataset['weight_bucket'].astype('category')\n",
    "\n",
    "# Create category ordering for weight_bucket values\n",
    "dataset['weight_bucket_ordered'] = dataset['weight_bucket']\n",
    "\n",
    "# Setup the ordering\n",
    "# This will allow us to plot and examine it better later\n",
    "dataset.weight_bucket_ordered.cat.set_categories(\n",
    "    new_categories = ['0-50g', '51-100g','101-500g','501-1000g','1001-2000g','2001-3000g','3001-4000g','4001-5000g','5001-10000g','10001-20000g','20001-30000g','30001-40000g','40001-50000g', '50000g+'],\n",
    "    ordered = True,\n",
    "    inplace=True)\n",
    "\n",
    "# Drop original weight column\n",
    "dataset.drop(columns=['weight_bucket'])"
   ]
  },
  {
   "cell_type": "code",
   "execution_count": null,
   "id": "1bd978d1",
   "metadata": {},
   "outputs": [],
   "source": [
    "# Correct column names\n",
    "## product_name_lenght\n",
    "## product_description_lenght\n",
    "\n",
    "dataset = dataset.rename(columns={'product_description_lenght': 'product_description_length', 'product_name_lenght': 'product_name_length'})"
   ]
  },
  {
   "cell_type": "code",
   "execution_count": null,
   "id": "dbd1ce43",
   "metadata": {},
   "outputs": [],
   "source": [
    "# Order by order_purchase_timestamp (oldest to newest)\n",
    "# Reset the index\n",
    "# Drop the previous index\n",
    "\n",
    "dataset = dataset.sort_values(\"order_purchase_timestamp\",ascending=True)\n",
    "dataset = dataset.reset_index(drop=True)"
   ]
  },
  {
   "cell_type": "code",
   "execution_count": null,
   "id": "4c07d30f",
   "metadata": {
    "scrolled": true
   },
   "outputs": [],
   "source": [
    "# Inspect to ensure the changes made are OK\n",
    "dataset"
   ]
  },
  {
   "cell_type": "markdown",
   "id": "8de9c53f",
   "metadata": {},
   "source": [
    "---\n",
    "# Exploratory data analysis [⬆️](#Questions-to-answer)"
   ]
  },
  {
   "cell_type": "code",
   "execution_count": null,
   "id": "3b7f9d87",
   "metadata": {},
   "outputs": [],
   "source": [
    "# Start with a correlation analysis to pick out any potential points of interest \n",
    "\n",
    "corr = dataset.corr()\n",
    "\n",
    "# Fill diagonal and upper half with NaNs\n",
    "mask = np.zeros_like(corr, dtype=bool)\n",
    "mask[np.triu_indices_from(mask)] = True\n",
    "corr[mask] = np.nan\n",
    "(corr\n",
    " .style\n",
    " .background_gradient(cmap='coolwarm', axis=None, vmin=-1, vmax=1)\n",
    " .highlight_null(null_color='#f1f1f1')  # Color NaNs grey\n",
    " .format(precision=2))"
   ]
  },
  {
   "cell_type": "markdown",
   "id": "7e74893d",
   "metadata": {},
   "source": [
    "---\n",
    "# Visualisation [⬆️](#Questions-to-answer)"
   ]
  },
  {
   "cell_type": "markdown",
   "id": "9bbca2ca",
   "metadata": {},
   "source": [
    "## Geographical location of customers [⬆️](#Questions-to-answer)"
   ]
  },
  {
   "cell_type": "code",
   "execution_count": null,
   "id": "8dd2e69a",
   "metadata": {},
   "outputs": [],
   "source": [
    "# Create a dictionary, that we can merge to our dataset with lat/long co-ordinates for each state\n",
    "\n",
    "geo = {\n",
    "    'latitude': [-23.65283405,-22.56003253,-18.78000486,-30.88004148,-24.08996499,-27.23003172,-16.28000242,-15.78334023,-20.85000771,-17.73004311,-8.110010153,-2.89999225,-1.190019105,-15.65001504,-5.809995505,-22.53000853,-7.019585756,-4.820030091,-5.650005271,-9.48000405,-11.26961058,-6.319576804,-11.64002724,-3.289580873,-9.070003236,-0.039598369,1.816231505],\n",
    "    'longitude': [-46.52781661,-44.1699502,-42.95002466,-55.53000615,-54.2699797,-52.03001306,-39.0299797,-47.91605229,-41.12998071,-49.10998458,-35.02004358,-40.85002364,-47.17999903,-56.14002059,-46.14998438,-55.7299681,-37.29000838,-42.18001998,-37.80000309,-35.83996769,-37.45002446,-47.41998438,-61.20999536,-60.6199797,-68.66997929,-51.17998743,-61.12767481],\n",
    "    'customer_state': ['SP','RJ','MG','RS','PR','SC','BA','DF','ES','GO','PE','CE','PA','MT','MA','MS','PB','PI','RN','AL','SE','TO','RO','AM','AC','AP','RR']\n",
    "}\n",
    "\n",
    "# convert to a dataframe\n",
    "geo = pd.DataFrame.from_dict(geo)"
   ]
  },
  {
   "cell_type": "code",
   "execution_count": null,
   "id": "0ee624fd",
   "metadata": {},
   "outputs": [],
   "source": [
    "# Inspect \n",
    "geo"
   ]
  },
  {
   "cell_type": "code",
   "execution_count": null,
   "id": "07b98cd6",
   "metadata": {},
   "outputs": [],
   "source": [
    "# Append the dataset to our dictionary of geo locations\n",
    "dataset = pd.merge(dataset,geo,left_on='customer_state',right_on='customer_state')"
   ]
  },
  {
   "cell_type": "code",
   "execution_count": null,
   "id": "76edc94c",
   "metadata": {},
   "outputs": [],
   "source": [
    "# Inspect\n",
    "dataset.tail()"
   ]
  },
  {
   "cell_type": "code",
   "execution_count": null,
   "id": "b5563fa9",
   "metadata": {},
   "outputs": [],
   "source": [
    "# Create a summary dataset to for the geo location\n",
    "\n",
    "geo_dataset_location_groupby = dataset.groupby('customer_state').agg(\n",
    "    count = ('order_id','count'), \n",
    ").sort_values('count', ascending=True).round(2)\n"
   ]
  },
  {
   "cell_type": "code",
   "execution_count": null,
   "id": "11d0f414",
   "metadata": {},
   "outputs": [],
   "source": [
    "geo_dataset_location_groupby['percent_of_column'] = round(((geo_dataset_location_groupby['count'])/(geo_dataset_location_groupby['count'].sum()))*100,2)"
   ]
  },
  {
   "cell_type": "code",
   "execution_count": null,
   "id": "52e85609",
   "metadata": {},
   "outputs": [],
   "source": [
    "geo_dataset_location_groupby = pd.merge(geo_dataset_location_groupby,geo,left_on='customer_state',right_on='customer_state') "
   ]
  },
  {
   "cell_type": "code",
   "execution_count": null,
   "id": "05f6bada",
   "metadata": {},
   "outputs": [],
   "source": [
    "geo_dataset_location_groupby = geo_dataset_location_groupby.sort_values('percent_of_column', ascending=False)"
   ]
  },
  {
   "cell_type": "code",
   "execution_count": null,
   "id": "29ad00e5",
   "metadata": {},
   "outputs": [],
   "source": [
    "geo_dataset_location_groupby.head(10)"
   ]
  },
  {
   "cell_type": "code",
   "execution_count": null,
   "id": "2fd5011d",
   "metadata": {},
   "outputs": [],
   "source": [
    "# Plot interactive map \n",
    "## Click, drag & zoom on the graph to inspect\n",
    "\n",
    "import plotly.express as px\n",
    "import geopandas as gpd\n",
    "\n",
    "fig = px.scatter_geo(geo_dataset_location_groupby,\n",
    "                    lat=geo_dataset_location_groupby.latitude,\n",
    "                    lon=geo_dataset_location_groupby.longitude,\n",
    "                    hover_name=\"customer_state\",\n",
    "                    size=geo_dataset_location_groupby.percent_of_column**0.6,\n",
    "                    projection=\"orthographic\")\n",
    "\n",
    "fig.update_geos(fitbounds=\"locations\")\n",
    "\n",
    "fig.show()"
   ]
  },
  {
   "cell_type": "markdown",
   "id": "c49df178",
   "metadata": {},
   "source": [
    "---\n",
    "## Revenue over time (2017-2018) [⬆️](#Questions-to-answer)"
   ]
  },
  {
   "cell_type": "code",
   "execution_count": null,
   "id": "ad73e1d2",
   "metadata": {},
   "outputs": [],
   "source": [
    "# Create table with data to plot\n",
    "## ORDERS (count) and TOTAL_REVENUE (sum) by YEAR/QUARTER\n",
    "\n",
    "order_comparison_2017_2018 = dataset.groupby(\"quarter\").agg(count = (\"order_id\",\"count\"),total_revenue = (\"payment_value\",\"sum\")).round({\"total_revenue\":0}).sort_values(\"quarter\",ascending=True)\n",
    "order_comparison_2017_2018.head(10)"
   ]
  },
  {
   "cell_type": "code",
   "execution_count": null,
   "id": "a5e5b25d",
   "metadata": {},
   "outputs": [],
   "source": [
    "# Plot the created table\n",
    "## Removing scientific notion for y-axis\n",
    "## Removing x-asis label\n",
    "## Adding title\n",
    "\n",
    "fig, ax1 = plt.subplots(figsize=[10,5])\n",
    "\n",
    "ax1 = order_comparison_2017_2018.total_revenue.plot(kind='bar',color='#1a2b49',rot=0,figsize=[15,6])\n",
    "\n",
    "x_axis = ax1.xaxis\n",
    "x_axis.label.set_visible(False)\n",
    "\n",
    "plt.ticklabel_format(style='plain', axis='y')\n",
    "\n",
    "ax1.set_title('Revenue over time (2017-2018)', fontsize=20, color='#1a2b49')\n",
    "\n",
    "for bars in ax1.containers:\n",
    "    ax1.bar_label(bars,label_type='edge',fontsize=10,padding=1,fmt = '%d')"
   ]
  },
  {
   "cell_type": "markdown",
   "id": "3722ed8b",
   "metadata": {},
   "source": [
    "---\n",
    "## Top 10 categories by orders & NR% (2018) [⬆️](#Questions-to-answer)"
   ]
  },
  {
   "cell_type": "code",
   "execution_count": null,
   "id": "2eed94e4",
   "metadata": {},
   "outputs": [],
   "source": [
    "# Create a table to calculate:\n",
    "## Number of orders (count)\n",
    "## Net revenue generated (total_revenue)\n",
    "## Percentage of overall NR (percent_of_NR)\n",
    "### 2018 sales\n",
    "\n",
    "count_categoryNR_2018 = dataset.loc[(dataset.order_purchase_timestamp >= '2018-01-01') & (dataset.order_purchase_timestamp <'2019-01-01')].groupby(\"product_category_name_english\").agg(count = (\"order_id\",\"count\"),total_revenue = (\"payment_value\",\"sum\"),percent_of_NR =(\"percent_of_NR\",\"sum\")).round({\"total_revenue\":0,\"percent_of_NR\":2}).sort_values('percent_of_NR',ascending=False)\n",
    "count_categoryNR_2018.head(10).sort_values(by='count',ascending=False)"
   ]
  },
  {
   "cell_type": "code",
   "execution_count": null,
   "id": "efe88b78",
   "metadata": {},
   "outputs": [],
   "source": [
    "# Create a chart to plot:\n",
    "## Count of orders (count)\n",
    "## Percentage of overall NR (percent_of_NR)\n",
    "### 2018 sales\n",
    "\n",
    "fig, ax = plt.subplots(figsize=[10,5])\n",
    "ax2 = ax.twinx()\n",
    "\n",
    "ax.bar(count_categoryNR_2018.head(10).index, count_categoryNR_2018.head(10)[\"count\"].sort_values(ascending=False), label='Count', color='#1a2b49')\n",
    "ax2.plot(count_categoryNR_2018.head(10).index, count_categoryNR_2018.head(10)[\"percent_of_NR\"], color='#ff5533', label='NR (%)')\n",
    "\n",
    "plt.setp(ax.get_xticklabels(), ha=\"right\", rotation=45)\n",
    "\n",
    "ax.set_title('Top selling products by orders & NR (2018)', fontsize=14, color='#1a2b49')\n",
    "fig.legend(loc='upper right',fontsize=9)\n",
    "\n",
    "for bars in ax.containers:\n",
    "    ax.bar_label(bars,label_type='edge',fontsize=9,padding=3)\n",
    "    \n",
    "for x, y in zip(count_categoryNR_2018.head(10).index, count_categoryNR_2018.head(10)[\"percent_of_NR\"]): \n",
    "    label = y\n",
    "    plt.annotate(label, (x, y),\n",
    "                 xycoords=\"data\",\n",
    "                 textcoords=\"offset points\",\n",
    "                 xytext=(0,-10), ha='center',fontsize=7,color='white')"
   ]
  },
  {
   "cell_type": "markdown",
   "id": "edfaf29c",
   "metadata": {},
   "source": [
    "---\n",
    "## Products vs transportation costs [⬆️](#Questions-to-answer)"
   ]
  },
  {
   "cell_type": "code",
   "execution_count": null,
   "id": "dd275845",
   "metadata": {},
   "outputs": [],
   "source": [
    "# Work out the total cost (freight_value + object price)\n",
    "# Work out each objects freight cost percent (freight cost/total cost)\n",
    "dataset[\"total_cost\"] = dataset[\"freight_value\"]+dataset[\"price\"]\n",
    "dataset[\"transport_percent_of_cost\"] = dataset[\"freight_value\"].div(dataset[\"total_cost\"])*100"
   ]
  },
  {
   "cell_type": "code",
   "execution_count": null,
   "id": "498a0f4c",
   "metadata": {},
   "outputs": [],
   "source": [
    "# For 2018, work out the number of units sold, percent of NR and transport cost (%) for each product category\n",
    "products_transport_costs = dataset.loc[(dataset.order_purchase_timestamp >= '2018-01-01') & (dataset.order_purchase_timestamp <'2019-01-01')].groupby(\"product_category_name_english\").agg(\n",
    "    units_sold = (\"order_id\",\"count\"), \n",
    "    percent_of_NR = (\"percent_of_NR\",\"sum\"),\n",
    "    percent_transport_costs = (\"transport_percent_of_cost\",\"mean\")).round({\"percent_transport_costs\":2,\"percent_of_NR\":2})\n",
    "\n",
    "products_transport_costs.sort_values('units_sold', ascending=False).head(16)"
   ]
  },
  {
   "cell_type": "code",
   "execution_count": null,
   "id": "06c50b82",
   "metadata": {},
   "outputs": [],
   "source": [
    "products_transport_costs = products_transport_costs.sort_values('units_sold', ascending=False).head(16)"
   ]
  },
  {
   "cell_type": "code",
   "execution_count": null,
   "id": "7d9410c1",
   "metadata": {},
   "outputs": [],
   "source": [
    "# Create a chart to plot the above table\n",
    "## Count of orders (count)\n",
    "## Percentage of overall NR (percent_of_NR)\n",
    "## percent of freight_costs for each product category\n",
    "### 2018 sales\n",
    "\n",
    "# Set up axes (with NR and transport costs sharing an axes)\n",
    "fig, ax = plt.subplots(figsize=[15,8])\n",
    "ax2 = ax.twinx()\n",
    "ax3 = ax.twinx()\n",
    "\n",
    "# Limit Y axes values\n",
    "ax.set_ylim([0,6000])\n",
    "ax3.set_ylim([0, 40])\n",
    "ax2.set_ylim([0, 40])\n",
    "\n",
    "# Create a bar chart for units sold & plot NR and transport % on 2 separate line graphs\n",
    "ax.bar(products_transport_costs.index, products_transport_costs[\"units_sold\"].sort_values(ascending=False), label='Count', color='#1a2b49')\n",
    "ax2.plot(products_transport_costs.index, products_transport_costs[\"percent_of_NR\"], color='#ff5533', label='NR (%)')\n",
    "ax3.plot(products_transport_costs.index, products_transport_costs[\"percent_transport_costs\"], color='yellow', label='transport_costs (%)',marker='o')\n",
    "\n",
    "# Set up the x-axis tick labels\n",
    "plt.setp(ax.get_xticklabels(), ha=\"right\", rotation=45,fontsize=13)\n",
    "\n",
    "# set up title\n",
    "ax.set_title('Top selling products by transport costs & NR (2018)', fontsize=19, color='#1a2b49')\n",
    "fig.legend(loc='upper right',fontsize=9)\n",
    "\n",
    "\n",
    "## Bar labels ## (not used here)\n",
    "# for bars in ax.containers:\n",
    "    #ax.bar_label(bars,label_type='edge',fontsize=9,padding=3)\n",
    "\n",
    "## Set labels for transport cost line    \n",
    "for x, y in zip(products_transport_costs.index, products_transport_costs[\"percent_transport_costs\"]): \n",
    "    label = y\n",
    "    plt.annotate(label, (x, y),\n",
    "                 xycoords=\"data\",\n",
    "                 textcoords=\"offset points\",\n",
    "                 xytext=(0,10), ha='center',fontsize=10,color='orange')\n",
    "\n",
    "## Set special markers at 2 points of interest    \n",
    "x = [9,4]\n",
    "y = [12, 24]\n",
    "cluster = ['*','*']\n",
    "for xp, yp, m in zip(x, y, cluster):\n",
    "    ax3.scatter([xp],[yp], marker=m, color='r') "
   ]
  },
  {
   "cell_type": "markdown",
   "id": "fc4bdfbf",
   "metadata": {},
   "source": [
    "---\n",
    "## Product price components [⬆️](#Questions-to-answer)"
   ]
  },
  {
   "cell_type": "code",
   "execution_count": null,
   "id": "4741cc5d",
   "metadata": {},
   "outputs": [],
   "source": [
    "# For 2018, product price breakdown (cost of item / cost of freight)\n",
    "product_price_components = dataset.groupby(\"quarter\").agg(\n",
    "    average_percent_transport_cost = (\"transport_percent_of_cost\",\"mean\"))\n",
    "\n",
    "product_price_components = product_price_components.sort_values('quarter', ascending=True)\n",
    "product_price_components['average_percent_product_cost'] = 100-product_price_components['average_percent_transport_cost']\n",
    "product_price_components['industry standard'] = 11\n",
    "product_price_components['industry standard'] = product_price_components['industry standard'].astype('float')"
   ]
  },
  {
   "cell_type": "code",
   "execution_count": null,
   "id": "4e494454",
   "metadata": {},
   "outputs": [],
   "source": [
    "product_price_components"
   ]
  },
  {
   "cell_type": "code",
   "execution_count": null,
   "id": "1f9362aa",
   "metadata": {},
   "outputs": [],
   "source": [
    "ax = product_price_components[['average_percent_transport_cost','average_percent_product_cost']].plot(kind='bar', stacked=True, figsize=(13, 6),color=['#1a2b49', '#00ca6d'], rot=0)\n",
    "\n",
    "for c in ax.containers:\n",
    "\n",
    "    # Optional: if the segment is small or 0, customize the labels\n",
    "    labels = [round(v.get_height(),2) if v.get_height() > 0 else '' for v in c]\n",
    "    \n",
    "    # remove the labels parameter if it's not needed for customized labels\n",
    "    ax.bar_label(c, labels=labels, label_type='center', color='white',fontweight='bold')\n",
    "    \n",
    "plt.axhline(y=11, color='yellow', linestyle='dashed',label=\"industry_standard_transport_costs\")\n",
    "\n",
    "plt.legend((\"industry_standard_transport_costs\", \"average_percent_transport_cost\", \"average_percent_product_cost\"))"
   ]
  },
  {
   "cell_type": "markdown",
   "id": "1d3b4496",
   "metadata": {},
   "source": [
    "----\n",
    "## CSAT [⬆️](#Questions-to-answer)"
   ]
  },
  {
   "cell_type": "markdown",
   "id": "099a5a92",
   "metadata": {},
   "source": [
    "### CSAT by quarter [⬆️](#Questions-to-answer)"
   ]
  },
  {
   "cell_type": "code",
   "execution_count": null,
   "id": "b4345957",
   "metadata": {},
   "outputs": [],
   "source": [
    "count_category = dataset.groupby(\"product_category_name_english\").agg(amount = (\"order_id\",\"count\")).sort_values(\"amount\",ascending=False)"
   ]
  },
  {
   "cell_type": "code",
   "execution_count": null,
   "id": "303e579e",
   "metadata": {},
   "outputs": [],
   "source": [
    "CSAT_quarter = dataset.set_index('quarter')\n",
    "CSAT_quarter = dataset.groupby(\"quarter\").agg(CSAT = (\"CSAT\",\"mean\")).round({\"CSAT\":2})\n",
    "CSAT_quarter.head(10)"
   ]
  },
  {
   "cell_type": "code",
   "execution_count": null,
   "id": "e0d9d6b3",
   "metadata": {},
   "outputs": [],
   "source": [
    "ax = CSAT_quarter.plot(kind='bar',rot=0,label='CSAT', color='#1a2b49',figsize=[10,5])\n",
    "\n",
    "ax.bar_label(ax.containers[0],fmt='%.2f%%')\n",
    "ax.set_title('CSAT (quarter)', fontsize=14, color='#1a2b49')\n",
    "ax.legend(loc=3,fontsize=9)"
   ]
  },
  {
   "cell_type": "markdown",
   "id": "49f7f178",
   "metadata": {},
   "source": [
    "---\n",
    "### CSAT and DSAT [⬆️](#Questions-to-answer)"
   ]
  },
  {
   "cell_type": "code",
   "execution_count": null,
   "id": "f13d8e06",
   "metadata": {},
   "outputs": [],
   "source": [
    "# Plot CSAT with negative CSAT (DSAT)\n",
    "D_CSAT_quarter = dataset.set_index('quarter')\n",
    "D_CSAT_quarter = dataset.groupby(\"quarter\").agg(CSAT = (\"CSAT\",\"mean\")).round({\"CSAT\":2})\n",
    "D_CSAT_quarter['DSAT'] = 100-D_CSAT_quarter['CSAT']\n",
    "D_CSAT_quarter"
   ]
  },
  {
   "cell_type": "code",
   "execution_count": null,
   "id": "c6c3aa02",
   "metadata": {},
   "outputs": [],
   "source": [
    "ax = D_CSAT_quarter[['CSAT','DSAT']].plot(kind='bar', stacked=True, figsize=(13, 6),color=['#1a2b49', '#ff5533'], rot=0)\n",
    "\n",
    "for c in ax.containers:\n",
    "\n",
    "    # Optional: if the segment is small or 0, customize the labels\n",
    "    labels = [round(v.get_height(),2) if v.get_height() > 0 else '' for v in c]\n",
    "    \n",
    "    # remove the labels parameter if it's not needed for customized labels\n",
    "    ax.bar_label(c, labels=labels, label_type='center', color='white',fontweight='bold')"
   ]
  },
  {
   "cell_type": "markdown",
   "id": "5a7bb7be",
   "metadata": {},
   "source": [
    "---\n",
    "## Delivery service level agreement (Delivery SLA) [⬆️](#Questions-to-answer)"
   ]
  },
  {
   "cell_type": "markdown",
   "id": "56248a0c",
   "metadata": {},
   "source": [
    "### Delivery SLA by quarter [⬆️](#Questions-to-answer)"
   ]
  },
  {
   "cell_type": "code",
   "execution_count": null,
   "id": "5a4b3409",
   "metadata": {},
   "outputs": [],
   "source": [
    "delivered_SLA_quarter = dataset.set_index('quarter')\n",
    "delivered_SLA_quarter = dataset.groupby(\"quarter\").agg(delivered_early = (\"delivered_earlier\",\"mean\")).round({\"delivered_earlier\":2})\n",
    "delivered_SLA_quarter.head(10)"
   ]
  },
  {
   "cell_type": "code",
   "execution_count": null,
   "id": "84c7aea2",
   "metadata": {},
   "outputs": [],
   "source": [
    "del_ax = delivered_SLA_quarter.plot(kind='bar',rot=0,label='delivered_earlier', color='#1a2b49',figsize=[10,5])\n",
    "\n",
    "del_ax.bar_label(del_ax.containers[0],fmt='%.2f%%')\n",
    "del_ax.set_title('Orders delivered earlier than expected (quarter)', fontsize=14, color='#1a2b49')\n",
    "del_ax.legend(loc=3,fontsize=9)"
   ]
  },
  {
   "cell_type": "markdown",
   "id": "225ee968",
   "metadata": {},
   "source": [
    "---\n",
    "### Delivery SLA vs. CSAT (Quarter) [⬆️](#Questions-to-answer)"
   ]
  },
  {
   "cell_type": "code",
   "execution_count": null,
   "id": "e3207edb",
   "metadata": {},
   "outputs": [],
   "source": [
    "delivered_SLA_quarter['CSAT'] = CSAT_quarter['CSAT']\n",
    "delivered_SLA_quarter.head(10)"
   ]
  },
  {
   "cell_type": "code",
   "execution_count": null,
   "id": "e749deb3",
   "metadata": {},
   "outputs": [],
   "source": [
    "ax = delivered_SLA_quarter.plot.bar(y='CSAT',color=\"#1a2b49\",figsize=(13, 6))\n",
    "delivered_SLA_quarter.plot(y='delivered_early',c='#ff5533',ax=ax,use_index=False,secondary_y=False,mark_right=False)\n",
    "ax.set_title('CSAT(%) vs Delivered early(%)', fontsize=14, color='#1a2b49')\n",
    "ax.legend(loc=3,fontsize=9)\n",
    "\n",
    "for bars in ax.containers:\n",
    "    ax.bar_label(bars,label_type='center',fontsize=9,padding=3,color='white',fontweight='bold')\n"
   ]
  },
  {
   "cell_type": "code",
   "execution_count": null,
   "id": "3aad837d",
   "metadata": {},
   "outputs": [],
   "source": [
    "delivered_SLA_quarter.corr()"
   ]
  },
  {
   "cell_type": "markdown",
   "id": "144afaf8",
   "metadata": {},
   "source": [
    "#### An interesting finding: [⬆️](#Questions-to-answer)\n",
    "- Customer satisfaction lowered when the orders were delivered after the estimated delivery date\n",
    "- Additionally, there is a very strong positive correlation between 'deivered early' and CSAT\n",
    "    - The higher the delivered early (%), the higher the CSAT (%)"
   ]
  },
  {
   "cell_type": "markdown",
   "id": "7d74a2c2",
   "metadata": {},
   "source": [
    "---\n",
    "### Order purchase date by CSAT [⬆️](#Questions-to-answer)"
   ]
  },
  {
   "cell_type": "code",
   "execution_count": null,
   "id": "44a5f2cd",
   "metadata": {},
   "outputs": [],
   "source": [
    "# Orders purchased coloured by their customer satisfaction score\n",
    "\n",
    "fig = px.histogram(dataset,x='order_purchase_timestamp',color='CSAT')\n",
    "fig.update_xaxes(showgrid=True)\n",
    "fig.update_yaxes(showgrid=True)\n",
    "fig"
   ]
  },
  {
   "cell_type": "markdown",
   "id": "ebf1fe68",
   "metadata": {},
   "source": [
    "---\n",
    "### Amount of days from purchase date to delivery date vs. CSAT [⬆️](#Questions-to-answer)"
   ]
  },
  {
   "cell_type": "code",
   "execution_count": null,
   "id": "8958aa04",
   "metadata": {},
   "outputs": [],
   "source": [
    "# days_from_purchase_to_delivery vs. CSAT\n",
    "\n",
    "fig = px.histogram(dataset,x='days_from_purchase_to_delivery',color='CSAT')\n",
    "fig.update_xaxes(showgrid=True)\n",
    "fig.update_yaxes(showgrid=True)\n",
    "fig"
   ]
  },
  {
   "cell_type": "markdown",
   "id": "5b6ff2b4",
   "metadata": {},
   "source": [
    "---\n",
    "### Estimated delivery date minus actual delivery date vs. CSAT [⬆️](#Questions-to-answer)"
   ]
  },
  {
   "cell_type": "code",
   "execution_count": null,
   "id": "22806f3d",
   "metadata": {
    "scrolled": true
   },
   "outputs": [],
   "source": [
    "# actual_delivery_date_minus_estimated_delivery_date vs. CSAT\n",
    "\n",
    "fig = px.histogram(dataset,x='actual_delivery_date_minus_estimated_delivery_date',color='CSAT')\n",
    "fig.update_xaxes(showgrid=True)\n",
    "fig.update_yaxes(showgrid=True)\n",
    "fig"
   ]
  },
  {
   "cell_type": "code",
   "execution_count": null,
   "id": "225116ac",
   "metadata": {
    "scrolled": true
   },
   "outputs": [],
   "source": [
    "# Slice actual_delivery_date_minus_estimated_delivery_date graph with min and max ranges\n",
    "fig = px.histogram(dataset.loc[(dataset['actual_delivery_date_minus_estimated_delivery_date'] <=40) & ((dataset['actual_delivery_date_minus_estimated_delivery_date'] >= -40))],x='actual_delivery_date_minus_estimated_delivery_date',color='CSAT')\n",
    "fig.update_xaxes(showgrid=True)\n",
    "fig.update_yaxes(showgrid=True)\n",
    "fig\n"
   ]
  },
  {
   "cell_type": "markdown",
   "id": "2a7a298b",
   "metadata": {},
   "source": [
    "---\n",
    "## Weight [⬆️](#Questions-to-answer)"
   ]
  },
  {
   "cell_type": "code",
   "execution_count": null,
   "id": "ef558ddf",
   "metadata": {
    "scrolled": false
   },
   "outputs": [],
   "source": [
    "# Create a summary dataset to investigate the weight buckets\n",
    "\n",
    "weight_dataset = dataset.groupby('weight_bucket_ordered').agg(\n",
    "    count = ('order_id','count'), \n",
    "    avg_CSAT = ('CSAT', 'mean'), \n",
    "    total_revenue = ('payment_value','sum'),\n",
    "    mean_time_to_delivery=('days_from_purchase_to_delivery','mean'),\n",
    "    mean_actual_minus_estimated_days = ('actual_delivery_date_minus_estimated_delivery_date','mean'),\n",
    "    avg_delivered_earlier = ('delivered_earlier','mean'),\n",
    "    review_avg = ('review_score','mean')\n",
    ").sort_values('weight_bucket_ordered', ascending=True).round(2)"
   ]
  },
  {
   "cell_type": "code",
   "execution_count": null,
   "id": "d107d7a9",
   "metadata": {
    "scrolled": true
   },
   "outputs": [],
   "source": [
    "# Inspect the weight_dataset\n",
    "\n",
    "weight_dataset"
   ]
  },
  {
   "cell_type": "code",
   "execution_count": null,
   "id": "077fb386",
   "metadata": {},
   "outputs": [],
   "source": [
    "# plot the weight_dataset\n",
    "\n",
    "weight_dataset.sort_values('weight_bucket_ordered',ascending=True).plot(subplots=True,figsize=[20,20],rot=0,kind='bar')"
   ]
  },
  {
   "cell_type": "code",
   "execution_count": null,
   "id": "a098a9ee",
   "metadata": {},
   "outputs": [],
   "source": [
    "# Weight_dataset correlation analysis to pick out any potential points of interest \n",
    "\n",
    "corr2 = weight_dataset.corr()\n",
    "\n",
    "# Fill diagonal and upper half with NaNs\n",
    "mask = np.zeros_like(corr2, dtype=bool)\n",
    "mask[np.triu_indices_from(mask)] = True\n",
    "corr2[mask] = np.nan\n",
    "(corr2\n",
    " .style\n",
    " .background_gradient(cmap='coolwarm', axis=None, vmin=-1, vmax=1)\n",
    " .highlight_null(null_color='#f1f1f1')  # Color NaNs grey\n",
    " .format(precision=2))"
   ]
  },
  {
   "cell_type": "markdown",
   "id": "7005d012",
   "metadata": {},
   "source": [
    "---\n",
    "# [Incomplete] Forecasting [⬆️](#Questions-to-answer)\n",
    "\n",
    "[Testing / Learning]\n",
    "- I wanted to try using online material to help learn to forecast\n",
    "- [[Forecasting time series model using python]](https://www.bounteous.com/insights/2020/09/15/forecasting-time-series-model-using-python-part-one/)"
   ]
  },
  {
   "cell_type": "code",
   "execution_count": null,
   "id": "ffea81b0",
   "metadata": {},
   "outputs": [],
   "source": [
    "# Create dataset with a date as an index and grouped into weekly values\n",
    "# Select only the variable we want to model (payment_value)\n",
    "\n",
    "forecast_test = dataset.set_index('order_purchase_timestamp')\n",
    "forecast_test = forecast_test['2017-01-01':'2018-07-01'].resample('W').sum()\n",
    "forecast_test = forecast_test['payment_value']\n",
    "forecast_test.head(10)"
   ]
  },
  {
   "cell_type": "code",
   "execution_count": null,
   "id": "661a83a6",
   "metadata": {},
   "outputs": [],
   "source": [
    "forecast_test.plot()"
   ]
  },
  {
   "cell_type": "code",
   "execution_count": null,
   "id": "768a96de",
   "metadata": {},
   "outputs": [],
   "source": [
    "# Plot the weekly payment_value & rolling monthly average\n",
    "\n",
    "import warnings\n",
    "import matplotlib.pyplot as plt\n",
    "\n",
    "y = forecast_test\n",
    "fig, ax = plt.subplots(figsize=(20, 6))\n",
    "ax.plot(y,marker='.', linestyle='-', linewidth=0.5, label='Weekly')\n",
    "ax.plot(y.resample('M').mean(),marker='o', markersize=8, linestyle='-', label='Monthly Mean Resample')\n",
    "ax.set_ylabel('payment_value')\n",
    "ax.legend();"
   ]
  },
  {
   "cell_type": "code",
   "execution_count": null,
   "id": "f331bda8",
   "metadata": {},
   "outputs": [],
   "source": [
    "### Plot for Rolling Statistic for testing Stationarity\n",
    "def test_stationarity(timeseries, title):\n",
    "    \n",
    "    #Determing rolling statistics\n",
    "    rolmean = pd.Series(timeseries).rolling(window=12).mean() \n",
    "    rolstd = pd.Series(timeseries).rolling(window=12).std()\n",
    "    \n",
    "    fig, ax = plt.subplots(figsize=(16, 4))\n",
    "    ax.plot(timeseries, label= title)\n",
    "    ax.plot(rolmean, label='rolling mean');\n",
    "    ax.plot(rolstd, label='rolling std (x10)');\n",
    "    ax.legend()"
   ]
  },
  {
   "cell_type": "code",
   "execution_count": null,
   "id": "df7ad7dd",
   "metadata": {},
   "outputs": [],
   "source": [
    "pd.options.display.float_format = '{:.8f}'.format\n",
    "test_stationarity(forecast_test,'raw data')"
   ]
  },
  {
   "cell_type": "markdown",
   "id": "ef91675d",
   "metadata": {},
   "source": [
    "---\n",
    "## [Incomplete] Multiple linear regression using `sklearn` [⬆️](#Questions-to-answer)"
   ]
  },
  {
   "cell_type": "markdown",
   "id": "bfba0726",
   "metadata": {},
   "source": [
    "[Testing / Learning]\n",
    "- I wanted to try using online material to help learn to forecast\n",
    "- [[Python machine learning - multiple regression]](https://www.w3schools.com/python/python_ml_multiple_regression.asp)\n",
    "\n"
   ]
  },
  {
   "cell_type": "markdown",
   "id": "8b0c4b76",
   "metadata": {},
   "source": [
    "---\n",
    "### Predicting review_score from `weight` and `delivery time` [⬆️](#Questions-to-answer)"
   ]
  },
  {
   "cell_type": "markdown",
   "id": "af943885",
   "metadata": {},
   "source": [
    "__Example question:__ Can review_score be predicted from weight and delivery time?"
   ]
  },
  {
   "cell_type": "code",
   "execution_count": null,
   "id": "72c1e695",
   "metadata": {},
   "outputs": [],
   "source": [
    "## Create a dataset for the regression analysis\n",
    "## drop na's to ensure the variables columns/rows are equal in length\n",
    "\n",
    "dataset_regression = dataset[['product_weight_g','review_score','days_from_purchase_to_delivery']].dropna(axis='rows')"
   ]
  },
  {
   "cell_type": "code",
   "execution_count": null,
   "id": "bc7ab0ed",
   "metadata": {},
   "outputs": [],
   "source": [
    "dataset_regression"
   ]
  },
  {
   "cell_type": "code",
   "execution_count": null,
   "id": "f1c54d3a",
   "metadata": {},
   "outputs": [],
   "source": [
    "## Make a list of the independent values and call this variable X.\n",
    "## Put the dependent values in a variable called y.\n",
    "\n",
    "X = dataset_regression[['product_weight_g','days_from_purchase_to_delivery']]\n",
    "y = dataset_regression['review_score']"
   ]
  },
  {
   "cell_type": "markdown",
   "id": "939f39a4",
   "metadata": {},
   "source": [
    "__Method__ [⬆️](#Questions-to-answer)\n",
    "- We will use some methods from the sklearn module, so we will have to import that module as well:\n",
    "    - `From sklearn import linear_model`<br><br>\n",
    "- From the sklearn module we will use the LinearRegression() method to create a linear regression object.\n",
    "- This object has a method called fit() that takes the independent and dependent values as parameters and fills the regression object with data that describes the relationship:\n",
    "\n",
    "     `regr = linear_model.LinearRegression()`<br>\n",
    "     `regr.fit(X, y)`\n",
    "     \n",
    "[[SOURCE]](https://www.w3schools.com/python/python_ml_multiple_regression.asp)"
   ]
  },
  {
   "cell_type": "code",
   "execution_count": null,
   "id": "03be4338",
   "metadata": {},
   "outputs": [],
   "source": [
    "regr = linear_model.LinearRegression()\n",
    "regr.fit(X, y)"
   ]
  },
  {
   "cell_type": "markdown",
   "id": "43f088c2",
   "metadata": {},
   "source": [
    "**Coefficient** [⬆️](#Questions-to-answer)\n",
    "\n",
    "- The coefficient is a factor that describes the relationship with an unknown variable.\n",
    "\n",
    "    - __Example:__ if x is a variable, then 2x is x two times. x is the unknown variable, and the number 2 is the coefficient.\n",
    "\n",
    "- In this case, we can ask for the coefficient value of **weight** against review_score, and for **days until delivery** against review_score. \n",
    "- The answer(s) we get tells us what would happen if we increase, or decrease, one of the independent values.\n",
    "\n",
    "[[SOURCE]](https://www.w3schools.com/python/python_ml_multiple_regression.asp)"
   ]
  },
  {
   "cell_type": "code",
   "execution_count": null,
   "id": "76474e38",
   "metadata": {},
   "outputs": [],
   "source": [
    "print(regr.coef_)"
   ]
  },
  {
   "cell_type": "code",
   "execution_count": null,
   "id": "bbacb48d",
   "metadata": {},
   "outputs": [],
   "source": [
    "#predict the review_score of a customer where the product weight is 400g and the delivery time is 40 days\n",
    "predictreview = regr.predict([[400, 40]]).round(1)\n",
    "print(predictreview)"
   ]
  },
  {
   "cell_type": "markdown",
   "id": "29a0ac1d",
   "metadata": {},
   "source": [
    "__Result:__ [⬆️](#Questions-to-answer)\n",
    "- We have predicted that a customer who buys something that weights 400g which is delivered in 40 days will have a review_score of 2.9"
   ]
  }
 ],
 "metadata": {
  "kernelspec": {
   "display_name": "Python 3 (ipykernel)",
   "language": "python",
   "name": "python3"
  },
  "language_info": {
   "codemirror_mode": {
    "name": "ipython",
    "version": 3
   },
   "file_extension": ".py",
   "mimetype": "text/x-python",
   "name": "python",
   "nbconvert_exporter": "python",
   "pygments_lexer": "ipython3",
   "version": "3.9.7"
  },
  "toc": {
   "base_numbering": 1,
   "nav_menu": {},
   "number_sections": true,
   "sideBar": true,
   "skip_h1_title": false,
   "title_cell": "Table of Contents",
   "title_sidebar": "Contents",
   "toc_cell": true,
   "toc_position": {
    "height": "calc(100% - 180px)",
    "left": "10px",
    "top": "150px",
    "width": "263px"
   },
   "toc_section_display": true,
   "toc_window_display": true
  }
 },
 "nbformat": 4,
 "nbformat_minor": 5
}
